{
  "nbformat": 4,
  "nbformat_minor": 0,
  "metadata": {
    "colab": {
      "name": "Remove nights from timelapse.ipynb",
      "provenance": [],
      "collapsed_sections": [],
      "authorship_tag": "ABX9TyNFUzSR3e53IgDl0AWvpgvJ",
      "include_colab_link": true
    },
    "kernelspec": {
      "name": "python3",
      "display_name": "Python 3"
    }
  },
  "cells": [
    {
      "cell_type": "markdown",
      "metadata": {
        "id": "view-in-github",
        "colab_type": "text"
      },
      "source": [
        "<a href=\"https://colab.research.google.com/github/edgarsi/Remove-nights-from-a-timelapse-video/blob/main/Remove_nights_from_timelapse.ipynb\" target=\"_parent\"><img src=\"https://colab.research.google.com/assets/colab-badge.svg\" alt=\"Open In Colab\"/></a>"
      ]
    },
    {
      "cell_type": "markdown",
      "metadata": {
        "id": "ksEQjGx2rMne"
      },
      "source": [
        "# Remove nights from a timelapse video\n",
        "\n",
        "So you have a timelapse video of 200 days which flickers like a dank club party? Free GUI video editing software should be able to remove the nights, I couldn't find one... This notebook does it.\n"
      ]
    },
    {
      "cell_type": "code",
      "metadata": {
        "id": "z58_imh0qqFx"
      },
      "source": [
        "#@markdown ## Input file\n",
        "INPUT_FILEPATH = \"timelapse/video.mp4\" #@param{type:\"string\"}\n",
        "\n",
        "#@markdown ## Output file\n",
        "OUTPUT_FILEPATH = \"timelapse/video_daylight.mp4\" #@param{type:\"string\"}\n",
        "\n",
        "#@markdown ## Brightness threshold\n",
        "THRESHOLD = 0.41 #@param {type:\"slider\", min:0, max:1, step:0.01}\n",
        "\n",
        "#@markdown ## Remove sunrise/sunset.\n",
        "#@markdown When sun sets or rises, the brightness may be quite high but the sun may be shining directly into the camera or creating unwanted glare when filming through a window. If you know the problem is some frames before or after a night, you can configure to cut them out.\n",
        "REMOVE_FRAMES_BEFORE_NIGHT = 0 #@param {type:\"number\"}\n",
        "REMOVE_FRAMES_AFTER_NIGHT = 0 #@param {type:\"number\"}\n",
        "\n",
        "#@markdown ## Debug\n",
        "#@markdown In debug mode, frames are marked with debug information instead - measured brightness, night/day, how many frames before or after a night is the current frame.\n",
        "#@markdown The font size and text positions are reasonable for 720p images.\n",
        "DEBUG = False #@param{type:\"boolean\"}\n",
        "INCLUDE_NIGHTS = False #@param{type:\"boolean\"}\n",
        "\n",
        "#@markdown ## Process just a part of the video\n",
        "#@markdown Set this to something not a \"-1\" to process the first this many frames. Faster result, faster to see if the configuration works for a video.\n",
        "LIMIT_FRAMES = -1 #@param {type:\"number\"}\n"
      ],
      "execution_count": 1,
      "outputs": []
    },
    {
      "cell_type": "code",
      "metadata": {
        "id": "v-zUjHbtsvue",
        "outputId": "8389255d-d7a5-42ba-d0a7-efdf31712783",
        "colab": {
          "base_uri": "https://localhost:8080/"
        }
      },
      "source": [
        "# Connect Google Drive\n",
        "from google.colab import drive\n",
        "drive.mount('/content/gdrive')\n",
        "print('Google Drive connected.')"
      ],
      "execution_count": 2,
      "outputs": [
        {
          "output_type": "stream",
          "text": [
            "Mounted at /content/gdrive\n",
            "Google Drive connected.\n"
          ],
          "name": "stdout"
        }
      ]
    },
    {
      "cell_type": "code",
      "metadata": {
        "id": "DOBSHOSYs0yt",
        "outputId": "1de59d1e-29ce-4864-bb8d-b9454db9765b",
        "colab": {
          "base_uri": "https://localhost:8080/"
        }
      },
      "source": [
        "# Install dependencies\n",
        "!sudo apt-get install ffmpeg\n",
        "!pip install opencv-python ipyplot\n"
      ],
      "execution_count": 3,
      "outputs": [
        {
          "output_type": "stream",
          "text": [
            "Reading package lists... Done\n",
            "Building dependency tree       \n",
            "Reading state information... Done\n",
            "ffmpeg is already the newest version (7:3.4.8-0ubuntu0.2).\n",
            "0 upgraded, 0 newly installed, 0 to remove and 14 not upgraded.\n",
            "Requirement already satisfied: opencv-python in /usr/local/lib/python3.6/dist-packages (4.1.2.30)\n",
            "Collecting ipyplot\n",
            "  Downloading https://files.pythonhosted.org/packages/c8/2d/ba3031b6945e40ac1137ffb3931528bf4a76f36f0668b6c1879fadac070d/ipyplot-1.1.0-py3-none-any.whl\n",
            "Requirement already satisfied: numpy>=1.11.3 in /usr/local/lib/python3.6/dist-packages (from opencv-python) (1.18.5)\n",
            "Requirement already satisfied: IPython in /usr/local/lib/python3.6/dist-packages (from ipyplot) (5.5.0)\n",
            "Collecting shortuuid\n",
            "  Downloading https://files.pythonhosted.org/packages/25/a6/2ecc1daa6a304e7f1b216f0896b26156b78e7c38e1211e9b798b4716c53d/shortuuid-1.0.1-py3-none-any.whl\n",
            "Requirement already satisfied: pillow in /usr/local/lib/python3.6/dist-packages (from ipyplot) (7.0.0)\n",
            "Requirement already satisfied: pexpect; sys_platform != \"win32\" in /usr/local/lib/python3.6/dist-packages (from IPython->ipyplot) (4.8.0)\n",
            "Requirement already satisfied: setuptools>=18.5 in /usr/local/lib/python3.6/dist-packages (from IPython->ipyplot) (50.3.2)\n",
            "Requirement already satisfied: decorator in /usr/local/lib/python3.6/dist-packages (from IPython->ipyplot) (4.4.2)\n",
            "Requirement already satisfied: pygments in /usr/local/lib/python3.6/dist-packages (from IPython->ipyplot) (2.6.1)\n",
            "Requirement already satisfied: traitlets>=4.2 in /usr/local/lib/python3.6/dist-packages (from IPython->ipyplot) (4.3.3)\n",
            "Requirement already satisfied: prompt-toolkit<2.0.0,>=1.0.4 in /usr/local/lib/python3.6/dist-packages (from IPython->ipyplot) (1.0.18)\n",
            "Requirement already satisfied: simplegeneric>0.8 in /usr/local/lib/python3.6/dist-packages (from IPython->ipyplot) (0.8.1)\n",
            "Requirement already satisfied: pickleshare in /usr/local/lib/python3.6/dist-packages (from IPython->ipyplot) (0.7.5)\n",
            "Requirement already satisfied: ptyprocess>=0.5 in /usr/local/lib/python3.6/dist-packages (from pexpect; sys_platform != \"win32\"->IPython->ipyplot) (0.6.0)\n",
            "Requirement already satisfied: six in /usr/local/lib/python3.6/dist-packages (from traitlets>=4.2->IPython->ipyplot) (1.15.0)\n",
            "Requirement already satisfied: ipython-genutils in /usr/local/lib/python3.6/dist-packages (from traitlets>=4.2->IPython->ipyplot) (0.2.0)\n",
            "Requirement already satisfied: wcwidth in /usr/local/lib/python3.6/dist-packages (from prompt-toolkit<2.0.0,>=1.0.4->IPython->ipyplot) (0.2.5)\n",
            "Installing collected packages: shortuuid, ipyplot\n",
            "Successfully installed ipyplot-1.1.0 shortuuid-1.0.1\n"
          ],
          "name": "stdout"
        }
      ]
    },
    {
      "cell_type": "code",
      "metadata": {
        "id": "wLZZKZyfJNLG"
      },
      "source": [
        "# !sudo apt-add-repository ppa:strukturag/libde265\n",
        "# !sudo apt-add-repository ppa:videolan/stable-daily\n",
        "# !sudo apt-get update && sudo apt-get upgrade\n",
        "# !sudo apt-get install vlc gstreamer0.10-libde265 libde265 vlc-plugin-libde265"
      ],
      "execution_count": 4,
      "outputs": []
    },
    {
      "cell_type": "code",
      "metadata": {
        "id": "ANEYqRum3jBH",
        "outputId": "15c513fc-c9dc-4c8e-ff75-d4426bdda721",
        "colab": {
          "base_uri": "https://localhost:8080/"
        }
      },
      "source": [
        "!# ffmpeg extract - Generating individual frame PNGs from the source file.\n",
        "%rm -rf /content/images_in/\n",
        "%shell mkdir /content/images_in\n",
        "\n",
        "!ffmpeg -i '/content/gdrive/My Drive/{INPUT_FILEPATH}' '/content/images_in/%08d.png'\n"
      ],
      "execution_count": 5,
      "outputs": [
        {
          "output_type": "stream",
          "text": [
            "ffmpeg version 3.4.8-0ubuntu0.2 Copyright (c) 2000-2020 the FFmpeg developers\n",
            "  built with gcc 7 (Ubuntu 7.5.0-3ubuntu1~18.04)\n",
            "  configuration: --prefix=/usr --extra-version=0ubuntu0.2 --toolchain=hardened --libdir=/usr/lib/x86_64-linux-gnu --incdir=/usr/include/x86_64-linux-gnu --enable-gpl --disable-stripping --enable-avresample --enable-avisynth --enable-gnutls --enable-ladspa --enable-libass --enable-libbluray --enable-libbs2b --enable-libcaca --enable-libcdio --enable-libflite --enable-libfontconfig --enable-libfreetype --enable-libfribidi --enable-libgme --enable-libgsm --enable-libmp3lame --enable-libmysofa --enable-libopenjpeg --enable-libopenmpt --enable-libopus --enable-libpulse --enable-librubberband --enable-librsvg --enable-libshine --enable-libsnappy --enable-libsoxr --enable-libspeex --enable-libssh --enable-libtheora --enable-libtwolame --enable-libvorbis --enable-libvpx --enable-libwavpack --enable-libwebp --enable-libx265 --enable-libxml2 --enable-libxvid --enable-libzmq --enable-libzvbi --enable-omx --enable-openal --enable-opengl --enable-sdl2 --enable-libdc1394 --enable-libdrm --enable-libiec61883 --enable-chromaprint --enable-frei0r --enable-libopencv --enable-libx264 --enable-shared\n",
            "  libavutil      55. 78.100 / 55. 78.100\n",
            "  libavcodec     57.107.100 / 57.107.100\n",
            "  libavformat    57. 83.100 / 57. 83.100\n",
            "  libavdevice    57. 10.100 / 57. 10.100\n",
            "  libavfilter     6.107.100 /  6.107.100\n",
            "  libavresample   3.  7.  0 /  3.  7.  0\n",
            "  libswscale      4.  8.100 /  4.  8.100\n",
            "  libswresample   2.  9.100 /  2.  9.100\n",
            "  libpostproc    54.  7.100 / 54.  7.100\n",
            "Input #0, mov,mp4,m4a,3gp,3g2,mj2, from '/content/gdrive/My Drive/timelapse/timelapse_720p.mp4':\n",
            "  Metadata:\n",
            "    major_brand     : isom\n",
            "    minor_version   : 512\n",
            "    compatible_brands: isomiso2avc1mp41\n",
            "    encoder         : Lavf56.25.101\n",
            "  Duration: 00:02:32.67, start: 0.066002, bitrate: 59069 kb/s\n",
            "    Stream #0:0(und): Video: h264 (High) (avc1 / 0x31637661), yuv420p, 1920x1080 [SAR 1:1 DAR 16:9], 59065 kb/s, 60 fps, 60 tbr, 59998 tbn, 120 tbc (default)\n",
            "    Metadata:\n",
            "      handler_name    : VideoHandler\n",
            "Stream mapping:\n",
            "  Stream #0:0 -> #0:0 (h264 (native) -> png (native))\n",
            "Press [q] to stop, [?] for help\n",
            "Output #0, image2, to '/content/images_in/%08d.png':\n",
            "  Metadata:\n",
            "    major_brand     : isom\n",
            "    minor_version   : 512\n",
            "    compatible_brands: isomiso2avc1mp41\n",
            "    encoder         : Lavf57.83.100\n",
            "    Stream #0:0(und): Video: png, rgb24, 1920x1080 [SAR 1:1 DAR 16:9], q=2-31, 200 kb/s, 60 fps, 60 tbn, 60 tbc (default)\n",
            "    Metadata:\n",
            "      handler_name    : VideoHandler\n",
            "      encoder         : Lavc57.107.100 png\n",
            "frame= 9160 fps=6.0 q=-0.0 Lsize=N/A time=00:02:32.67 bitrate=N/A speed= 0.1x    \n",
            "video:22012652kB audio:0kB subtitle:0kB other streams:0kB global headers:0kB muxing overhead: unknown\n"
          ],
          "name": "stdout"
        }
      ]
    },
    {
      "cell_type": "code",
      "metadata": {
        "id": "1gyQBzM-vhxS",
        "outputId": "768ac81a-954b-4397-c5d9-722d39c5cf12",
        "colab": {
          "base_uri": "https://localhost:8080/"
        }
      },
      "source": [
        "import cv2\n",
        "from imageio import imread, imsave\n",
        "import shutil\n",
        "import ipyplot\n",
        "import os\n",
        "import sys\n",
        "import itertools\n",
        "from tqdm import tqdm\n",
        "from functools import lru_cache\n",
        "from PIL import ImageFont, ImageDraw, Image\n",
        "from urllib.request import urlopen\n",
        "import time\n",
        "import numpy as np\n",
        "from matplotlib import pyplot\n",
        "\n",
        "tqdm.get_lock().locks = []  # sad tdqm&colab bug workaround\n",
        "\n",
        "\n",
        "def debug(f):\n",
        "    \"\"\" This decorator enables or disables debugging, such as and plastering \n",
        "    debug information on the output images. Helps to reason/tune algorithm \n",
        "    behaviour. \"\"\"\n",
        "    def wrapper(*pargs, **kwargs):\n",
        "        if {DEBUG}:\n",
        "            return f(*pargs, **kwargs)\n",
        "    return wrapper\n",
        "\n",
        "\n",
        "@lru_cache(maxsize=None)\n",
        "def font():\n",
        "    font_url = 'https://github.com/googlefonts/roboto/blob/master/src/hinted/Roboto-Bold.ttf?raw=true'\n",
        "    font = ImageFont.truetype(urlopen(font_url), size=50)\n",
        "    return font\n",
        "\n",
        "\n",
        "@debug\n",
        "def debug_text_on_image(image, s, position=0):\n",
        "    canvas = np.full((image.shape), (0,0,0), dtype=np.uint8)\n",
        "    canvas_pil = Image.fromarray(canvas)\n",
        "    draw = ImageDraw.Draw(canvas_pil)\n",
        "    coords = (15 + position, 15)\n",
        "    draw.text(coords, s, font=font(), fill=(255,255,255,0))\n",
        "    drawing = np.array(canvas_pil)\n",
        "    x,y,w,h = cv2.boundingRect(drawing[:,:,2])\n",
        "    m = 15  # black margin\n",
        "    x,y,w,h = x-m,y-m,w+2*m,h+2*m\n",
        "    image[y:y+h, x:x+w] = drawing[y:y+h, x:x+w]\n",
        "\n",
        "\n",
        "def filenames(dir):\n",
        "    def get(i):\n",
        "        return os.path.join(dir, f'{i+1:0>8d}.png')\n",
        "    return get\n",
        "\n",
        "\n",
        "images_in = filenames('/content/images_in')\n",
        "images_out = filenames('/content/images_out')\n",
        "\n",
        "\n",
        "def images_out_next():\n",
        "    filename = images_out(images_out_next.i)\n",
        "    images_out_next.i += 1\n",
        "    return filename\n",
        "images_out_next.i = 0\n",
        "\n",
        "\n",
        "@lru_cache(maxsize=None)\n",
        "def total():\n",
        "    cnt = len(os.listdir('/content/images_in'))\n",
        "    cnt = len(range(cnt)[:LIMIT_FRAMES])\n",
        "    return cnt\n",
        "\n",
        "\n",
        "def frame_range():\n",
        "    with tqdm(total=total(), file=sys.stdout, smoothing=0, position=0) as pbar:\n",
        "        for i in range(total()):\n",
        "            pbar.update(1)\n",
        "            yield i\n",
        "\n",
        "\n",
        "def frame(i):\n",
        "    return imread(images_in(i))\n",
        "\n",
        "\n",
        "def frame_brightness(frame):\n",
        "    return frame.sum() / (255 * frame.size)\n",
        "\n",
        "\n",
        "@lru_cache(maxsize=None)\n",
        "def brightnesses():\n",
        "    return [frame_brightness(frame(i)) for i in frame_range()]\n",
        "\n",
        "\n",
        "\n",
        "\n",
        "print('Measuring frame brightness')\n",
        "_ = brightnesses()\n",
        "\n",
        "\n"
      ],
      "execution_count": 6,
      "outputs": [
        {
          "output_type": "stream",
          "text": [
            "\n",
            "        WARNING! Google Colab Environment detected!\n",
            "        You might encounter issues while running in Google Colab environment.\n",
            "        If images are not displaying properly please try setting `base_64` param to `True`.\n",
            "        \n",
            "Measuring frame brightness\n",
            "100%|██████████| 9159/9159 [08:49<00:00, 17.31it/s]\n"
          ],
          "name": "stdout"
        }
      ]
    },
    {
      "cell_type": "code",
      "metadata": {
        "id": "obmgOefNauAu",
        "outputId": "433d88eb-3555-4dc4-cc64-0b0df6d5de59",
        "colab": {
          "base_uri": "https://localhost:8080/"
        }
      },
      "source": [
        "# Filter out nights\n",
        "%rm -rf /content/images_out\n",
        "%mkdir /content/images_out\n",
        "\n",
        "def brightness(i):\n",
        "    return brightnesses()[i]\n",
        "\n",
        "\n",
        "def is_day_brightness(brightness):\n",
        "    return brightness > THRESHOLD\n",
        "\n",
        "\n",
        "def is_day(i):\n",
        "    return is_day_brightness(brightness(i))\n",
        "\n",
        "\n",
        "@lru_cache(maxsize=None)\n",
        "def frame_night_distance():\n",
        "    frames_to_night = []\n",
        "    frames_from_night = []\n",
        "    for day, g in itertools.groupby(brightnesses(), is_day_brightness):\n",
        "        frames = list(g)\n",
        "        for i, _ in enumerate(frames):\n",
        "            frames_to_night.append(len(frames) - i if day else 0)\n",
        "            frames_from_night.append(i + 1 if day else 0)\n",
        "    return {'to_night': frames_to_night, 'from_night': frames_from_night}\n",
        "\n",
        "\n",
        "def frames_from_night(i):\n",
        "    return frame_night_distance()['from_night'][i]\n",
        "\n",
        "\n",
        "def frames_to_night(i):\n",
        "    return frame_night_distance()['to_night'][i]\n",
        "\n",
        "\n",
        "def is_wanted_daylight_image(i):\n",
        "    return is_day(i) \\\n",
        "        and frames_from_night(i) >= REMOVE_FRAMES_AFTER_NIGHT \\\n",
        "        and frames_to_night(i) >= REMOVE_FRAMES_BEFORE_NIGHT\n",
        "\n",
        "\n",
        "def create_debug_images():\n",
        "    for i in frame_range():\n",
        "        if INCLUDE_NIGHTS or is_wanted_daylight_image(i):\n",
        "            f = frame(i)\n",
        "            debug_text_on_image(f, f'Brightness: {brightness(i):.2f}', 0)\n",
        "            debug_text_on_image(f, ('Day' if is_day(i) else 'Night'), 700)\n",
        "            ffn = frames_from_night(i)\n",
        "            ftn = frames_to_night(i)\n",
        "            debug_text_on_image(f, f'Frames from/to night: {ffn} / {ftn}', 1000)\n",
        "            imsave(images_out_next(), f)\n",
        "            # pyplot.figure(dpi=500)\n",
        "            # pyplot.imshow(f)\n",
        "            # pyplot.show()\n",
        "            # sys.exit(0)\n",
        "\n",
        "\n",
        "def create_images():\n",
        "    assert not INCLUDE_NIGHTS\n",
        "    for i in frame_range():\n",
        "        if is_wanted_daylight_image(i):\n",
        "            shutil.copy(images_in(i), images_out_next())\n",
        "\n",
        "if DEBUG:\n",
        "    print('Creating debug images')\n",
        "    create_debug_images()\n",
        "else:\n",
        "    print('Copying daylight images')\n",
        "    create_images()\n",
        "\n",
        "print(f'{images_out_next.i} ({100*images_out_next.i/total():.0f}%) '\n",
        "    'of the frames were bright enough')\n",
        "print('Done')\n"
      ],
      "execution_count": 7,
      "outputs": [
        {
          "output_type": "stream",
          "text": [
            "Creating debug images\n",
            "100%|██████████| 9159/9159 [1:03:29<00:00,  2.40it/s]\n",
            "1715 (19%) of the frames were bright enough\n",
            "Done\n"
          ],
          "name": "stdout"
        }
      ]
    },
    {
      "cell_type": "code",
      "metadata": {
        "id": "G_9uT9aV4peH",
        "outputId": "e38b6dbf-4e50-4eb2-964f-f5d97e035538",
        "colab": {
          "base_uri": "https://localhost:8080/",
          "height": 265
        }
      },
      "source": [
        "from matplotlib import pyplot\n",
        "\n",
        "pyplot.hist(brightnesses(), bins=50)\n",
        "pyplot.show()\n"
      ],
      "execution_count": 8,
      "outputs": [
        {
          "output_type": "display_data",
          "data": {
            "image/png": "[encoded data removed]",
            "text/plain": [
              "<Figure size 432x288 with 1 Axes>"
            ]
          },
          "metadata": {
            "tags": [],
            "needs_background": "light"
          }
        }
      ]
    },
    {
      "cell_type": "code",
      "metadata": {
        "id": "mDUToQY20maA",
        "outputId": "a4080434-7196-47ef-f356-0172d0cb739e",
        "colab": {
          "base_uri": "https://localhost:8080/"
        }
      },
      "source": [
        "\n",
        "fps, = !ffprobe -v 0 -of csv=p=0 -select_streams v:0 -show_entries stream=r_frame_rate '/content/gdrive/My Drive/{INPUT_FILEPATH}'\n",
        "fps, = !bash -c 'echo $(({fps}))'\n",
        "!echo '{fps}'\n",
        "\n",
        "%shell ffmpeg -y -r {fps} -f image2 -pattern_type glob -i '/content/images_out/*.png' '/content/gdrive/My Drive/{OUTPUT_FILEPATH}'"
      ],
      "execution_count": 9,
      "outputs": [
        {
          "output_type": "stream",
          "text": [
            "59\n",
            "ffmpeg version 3.4.8-0ubuntu0.2 Copyright (c) 2000-2020 the FFmpeg developers\n",
            "  built with gcc 7 (Ubuntu 7.5.0-3ubuntu1~18.04)\n",
            "  configuration: --prefix=/usr --extra-version=0ubuntu0.2 --toolchain=hardened --libdir=/usr/lib/x86_64-linux-gnu --incdir=/usr/include/x86_64-linux-gnu --enable-gpl --disable-stripping --enable-avresample --enable-avisynth --enable-gnutls --enable-ladspa --enable-libass --enable-libbluray --enable-libbs2b --enable-libcaca --enable-libcdio --enable-libflite --enable-libfontconfig --enable-libfreetype --enable-libfribidi --enable-libgme --enable-libgsm --enable-libmp3lame --enable-libmysofa --enable-libopenjpeg --enable-libopenmpt --enable-libopus --enable-libpulse --enable-librubberband --enable-librsvg --enable-libshine --enable-libsnappy --enable-libsoxr --enable-libspeex --enable-libssh --enable-libtheora --enable-libtwolame --enable-libvorbis --enable-libvpx --enable-libwavpack --enable-libwebp --enable-libx265 --enable-libxml2 --enable-libxvid --enable-libzmq --enable-libzvbi --enable-omx --enable-openal --enable-opengl --enable-sdl2 --enable-libdc1394 --enable-libdrm --enable-libiec61883 --enable-chromaprint --enable-frei0r --enable-libopencv --enable-libx264 --enable-shared\n",
            "  libavutil      55. 78.100 / 55. 78.100\n",
            "  libavcodec     57.107.100 / 57.107.100\n",
            "  libavformat    57. 83.100 / 57. 83.100\n",
            "  libavdevice    57. 10.100 / 57. 10.100\n",
            "  libavfilter     6.107.100 /  6.107.100\n",
            "  libavresample   3.  7.  0 /  3.  7.  0\n",
            "  libswscale      4.  8.100 /  4.  8.100\n",
            "  libswresample   2.  9.100 /  2.  9.100\n",
            "  libpostproc    54.  7.100 / 54.  7.100\n",
            "Input #0, image2, from '/content/images_out/*.png':\n",
            "  Duration: 00:00:29.07, start: 0.000000, bitrate: N/A\n",
            "    Stream #0:0: Video: png, rgb24(pc), 1920x1080, 59 tbr, 59 tbn, 59 tbc\n",
            "Stream mapping:\n",
            "  Stream #0:0 -> #0:0 (png (native) -> h264 (libx264))\n",
            "Press [q] to stop, [?] for help\n",
            "\u001b[1;36m[libx264 @ 0x56040ca13e00] \u001b[0musing cpu capabilities: MMX2 SSE2Fast SSSE3 SSE4.2 AVX FMA3 BMI2 AVX2\n",
            "\u001b[1;36m[libx264 @ 0x56040ca13e00] \u001b[0mprofile High 4:4:4 Predictive, level 4.2, 4:4:4 8-bit\n",
            "\u001b[1;36m[libx264 @ 0x56040ca13e00] \u001b[0m264 - core 152 r2854 e9a5903 - H.264/MPEG-4 AVC codec - Copyleft 2003-2017 - http://www.videolan.org/x264.html - options: cabac=1 ref=3 deblock=1:0:0 analyse=0x1:0x111 me=hex subme=7 psy=1 psy_rd=1.00:0.00 mixed_ref=1 me_range=16 chroma_me=1 trellis=1 8x8dct=0 cqm=0 deadzone=21,11 fast_pskip=1 chroma_qp_offset=4 threads=3 lookahead_threads=1 sliced_threads=0 nr=0 decimate=1 interlaced=0 bluray_compat=0 constrained_intra=0 bframes=3 b_pyramid=2 b_adapt=1 b_bias=0 direct=1 weightb=1 open_gop=0 weightp=2 keyint=250 keyint_min=25 scenecut=40 intra_refresh=0 rc_lookahead=40 rc=crf mbtree=1 crf=23.0 qcomp=0.60 qpmin=0 qpmax=69 qpstep=4 ip_ratio=1.40 aq=1:1.00\n",
            "Output #0, mp4, to '/content/gdrive/My Drive/timelapse/video_daylight.mp4':\n",
            "  Metadata:\n",
            "    encoder         : Lavf57.83.100\n",
            "    Stream #0:0: Video: h264 (libx264) (avc1 / 0x31637661), yuv444p, 1920x1080, q=-1--1, 59 fps, 15104 tbn, 59 tbc\n",
            "    Metadata:\n",
            "      encoder         : Lavc57.107.100 libx264\n",
            "    Side data:\n",
            "      cpb: bitrate max/min/avg: 0/0/0 buffer size: 0 vbv_delay: -1\n",
            "frame= 1715 fps=2.9 q=-1.0 Lsize=  204487kB time=00:00:29.01 bitrate=57730.2kbits/s speed=0.0484x    \n",
            "video:204463kB audio:0kB subtitle:0kB other streams:0kB global headers:0kB muxing overhead: 0.011482%\n",
            "\u001b[1;36m[libx264 @ 0x56040ca13e00] \u001b[0mframe I:30    Avg QP:28.10  size:276723\n",
            "\u001b[1;36m[libx264 @ 0x56040ca13e00] \u001b[0mframe P:461   Avg QP:30.56  size:159285\n",
            "\u001b[1;36m[libx264 @ 0x56040ca13e00] \u001b[0mframe B:1224  Avg QP:32.02  size:104279\n",
            "\u001b[1;36m[libx264 @ 0x56040ca13e00] \u001b[0mconsecutive B-frames:  3.0%  4.2%  4.2% 88.6%\n",
            "\u001b[1;36m[libx264 @ 0x56040ca13e00] \u001b[0mmb I  I16..4: 20.6%  0.0% 79.4%\n",
            "\u001b[1;36m[libx264 @ 0x56040ca13e00] \u001b[0mmb P  I16..4: 19.8%  0.0% 39.3%  P16..4: 19.4% 10.2%  6.7%  0.0%  0.0%    skip: 4.6%\n",
            "\u001b[1;36m[libx264 @ 0x56040ca13e00] \u001b[0mmb B  I16..4:  9.1%  0.0% 15.2%  B16..8: 25.7% 11.4%  5.4%  direct:12.9%  skip:20.3%  L0:44.2% L1:39.3% BI:16.5%\n",
            "\u001b[1;36m[libx264 @ 0x56040ca13e00] \u001b[0mcoded y,u,v intra: 63.5% 19.0% 6.4% inter: 47.0% 6.8% 4.5%\n",
            "\u001b[1;36m[libx264 @ 0x56040ca13e00] \u001b[0mi16 v,h,dc,p: 26% 30% 24% 20%\n",
            "\u001b[1;36m[libx264 @ 0x56040ca13e00] \u001b[0mi4 v,h,dc,ddl,ddr,vr,hd,vl,hu: 16% 13% 23%  7%  9%  8%  8%  7%  7%\n",
            "\u001b[1;36m[libx264 @ 0x56040ca13e00] \u001b[0mWeighted P-Frames: Y:21.3% UV:15.2%\n",
            "\u001b[1;36m[libx264 @ 0x56040ca13e00] \u001b[0mref P L0: 38.4% 15.8% 22.8% 18.3%  4.7%\n",
            "\u001b[1;36m[libx264 @ 0x56040ca13e00] \u001b[0mref B L0: 76.0% 18.5%  5.5%\n",
            "\u001b[1;36m[libx264 @ 0x56040ca13e00] \u001b[0mref B L1: 90.6%  9.4%\n",
            "\u001b[1;36m[libx264 @ 0x56040ca13e00] \u001b[0mkb/s:57622.50\n"
          ],
          "name": "stdout"
        },
        {
          "output_type": "execute_result",
          "data": {
            "text/plain": [
              ""
            ]
          },
          "metadata": {
            "tags": []
          },
          "execution_count": 9
        }
      ]
    }
  ]
}